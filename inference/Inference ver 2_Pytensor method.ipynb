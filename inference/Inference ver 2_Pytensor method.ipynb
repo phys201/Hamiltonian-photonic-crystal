{
 "cells": [
  {
   "cell_type": "markdown",
   "metadata": {},
   "source": [
    "# Phys201 Final Project Group 5"
   ]
  },
  {
   "cell_type": "markdown",
   "metadata": {},
   "source": [
    "Author: Thao Dinh, Fan Du, Yiting Huang"
   ]
  },
  {
   "cell_type": "code",
   "execution_count": 1,
   "metadata": {},
   "outputs": [],
   "source": [
    "import numpy as np\n",
    "import matplotlib\n",
    "import matplotlib.pyplot as plt\n",
    "import seaborn as sns\n",
    "import xarray as xr\n",
    "import pandas as pd\n",
    "import pymc as pm\n",
    "import scipy.signal as sg\n",
    "import numpy as np\n",
    "import scipy.signal\n",
    "import matplotlib.pyplot as plt\n",
    "from matplotlib import rcParams\n",
    "# import pytesseract as pt\n",
    "import seaborn as sns\n",
    "import matplotlib.patches as patches\n",
    "import matplotlib.gridspec as gs\n",
    "import math\n",
    "from importlib import reload\n",
    "from PIL import Image\n",
    "import matplotlib as mpl\n",
    "#import tifffile\n",
    "from matplotlib.font_manager import FontProperties\n",
    "from scipy import interpolate \n",
    "import pylab as pl  \n",
    "import seaborn as sns\n",
    "from pprint import pprint\n",
    "from numpy import cos, sin, tan, sqrt\n",
    "from matplotlib.colors import LogNorm\n",
    "#from tqdm import tqdm\n",
    "from scipy.optimize import fsolve\n",
    "from math import sin,cos,e, sqrt\n",
    "from scipy.optimize import least_squares"
   ]
  },
  {
   "cell_type": "code",
   "execution_count": 2,
   "metadata": {},
   "outputs": [
    {
     "name": "stdout",
     "output_type": "stream",
     "text": [
      "4\n"
     ]
    }
   ],
   "source": [
    "# H functions\n",
    "DEG = np.pi/180\n",
    "twist = 0\n",
    "\n",
    "class coor: ### a tuple of 4 int\n",
    "    def __init__(self, i,j,k,l):\n",
    "        self.i, self.j, self.k, self.l = i,j,k,l\n",
    "        self.x = self.i + self.k*cos(twist) - self.l*sin(twist)\n",
    "        self.y = self.j + self.l*cos(twist) + self.k*sin(twist)\n",
    "    def __repr__(self):\n",
    "        return f'({self.i},{self.j},{self.k},{self.l})'\n",
    "    def __eq__(self, other):\n",
    "        if (self.i == other.i) and (self.j == other.j) and (self.k == other.k) and (self.l == other.l):\n",
    "            return True\n",
    "        else:\n",
    "            return False\n",
    "    def __add__(self, o):\n",
    "        return coor(self.i+o.i, self.j+o.j, self.k+o.k, self.l+o.l)\n",
    "    def __sub__(self, o):\n",
    "        return coor(self.i-o.i, self.j-o.j, self.k-o.k, self.l-o.l)\n",
    "    def __mul__(self, o):\n",
    "        return coor(self.i*o, self.j*o, self.k*o, self.l*o)\n",
    "    def __neg__(self):\n",
    "        return coor(-self.i,- self.j, -self.k, -self.l)\n",
    "    def __abs__(self):\n",
    "        return coor(abs(self.i), abs(self.j), abs(self.k), abs(self.l))\n",
    "        \n",
    "class coors: ### list of coors\n",
    "    def __init__(self, coors):\n",
    "        self.coors = coors\n",
    "    def __repr__(self):\n",
    "        return ';'.join([f'({coor.i},{coor.j},{coor.k},{coor.l})' for coor in self.coors])\n",
    "    def __add__(self, o):\n",
    "        res = [i+j for i in self.coors for j in o.coors]\n",
    "        return coors(uniques(res))\n",
    "    def __sub__(self, o):\n",
    "        res = [i-j for i in self.coors for j in o.coors]\n",
    "        return coors(uniques(res))\n",
    "    def visualize(self, marker='*', color='blue', size=50, alpha=1.0):\n",
    "        for coor in self.coors:\n",
    "            x = coor.i + coor.k*cos(twist) - coor.l*sin(twist)\n",
    "            y = coor.j + coor.l*cos(twist) + coor.k*sin(twist)\n",
    "            plt.scatter([x],[y],marker=marker, color=color, s=size, alpha=alpha)\n",
    "            \n",
    "def uniques(test_list): ### remove duplicates in a list of coors\n",
    "    res = []\n",
    "    [res.append(x) for x in test_list if x not in res]\n",
    "    return res\n",
    "\n",
    "def slabmode(kx, ky, slope=1.): ### w(kx,ky) of single slab\n",
    "    return sqrt(kx**2 + ky**2)*slope\n",
    "\n",
    "def slabmode2(kx, ky, neff=1.573, ratio=0.3): ### The authentic waveguide mode, TM0 mode\n",
    "    ###ratio = thickness/lattice constant\n",
    "    k=np.sqrt(kx**2+ky**2)\n",
    "    def func(k0):\n",
    "        return neff**2*np.sqrt( k**2-k0**2 ) -  np.sqrt( (neff**2)*(k0)**2-k**2 ) * np.tan(np.sqrt( (neff**2)*(k0)**2-k**2 )*2*np.pi*ratio)\n",
    "#     result = fsolve(func, k/neff+0.1)\n",
    "    \n",
    "    res = least_squares(func, (k/neff+0.000001), bounds = (k/neff,k))\n",
    "    return res.x[0]\n",
    "\n",
    "def slabmode3(kx, ky, neff=1.573, ratio=0.3): ### The authentic waveguide mode, TM0 mode\n",
    "    ###ratio = thickness/lattice constant\n",
    "    k=np.sqrt(kx**2+ky**2)\n",
    "    def func(k0):\n",
    "        return np.sqrt( k**2-k0**2 ) -  np.sqrt( (neff**2)*(k0)**2-k**2 ) * np.tan(np.sqrt( (neff**2)*(k0)**2-k**2 )*2*np.pi*ratio)\n",
    "#     result = fsolve(func, k/neff+0.1)\n",
    "    \n",
    "    res = least_squares(func, (k/neff+0.000001), bounds = (k/neff,k))\n",
    "    return res.x[0]\n",
    "\n",
    "def ham1(theta):\n",
    "    h11, v11, u20, neff, ratio = theta\n",
    "    kx = 0.05\n",
    "    ky = 0.0\n",
    "    ham = np.zeros([Nbases,Nbases],dtype=float) ### potentially complex, if want gain and loss\n",
    "    ### diagonal freqs\n",
    "    for i in range(Nbases):\n",
    "        Gx, Gy = Gbases.coors[i].x, Gbases.coors[i].y\n",
    "        kxinc=kx-Gx*sin(alpha/2)+Gy*sin(alpha/2)\n",
    "        kyinc=ky-Gx*cos(alpha/2)-Gy*cos(alpha/2)\n",
    "        ham[i,i] = slabmode2(kxinc,kyinc,neff,ratio)\n",
    "    ### off-diagonal coupling\n",
    "\n",
    "    criteria_h11 = [G1x-G1y,-G1x+G1y]\n",
    "    criteria_v11 = [G1x+G1y,-G1x-G1y]\n",
    "    criteria_u20 = [G1x*2,G1y*2]\n",
    "    \n",
    "    #### fill in the entries\n",
    "    for i in range(Nbases):\n",
    "        for j in range(i+1,Nbases):\n",
    "            G1 = Gbases.coors[i]\n",
    "            G2 = Gbases.coors[j]   \n",
    "\n",
    "            if abs(G2-G1) in criteria_u20:\n",
    "                # print(U20)\n",
    "                ham[i,j] = u20\n",
    "                ham[j,i] = u20\n",
    "                continue\n",
    "\n",
    "            if (G2-G1) in criteria_h11:\n",
    "                # print(U10)\n",
    "                ham[i,j] = h11\n",
    "                ham[j,i] = h11\n",
    "                continue\n",
    "\n",
    "            if (G2-G1) in criteria_v11:\n",
    "                # print(U10)\n",
    "                ham[i,j] = v11\n",
    "                ham[j,i] = v11\n",
    "                continue\n",
    "    eigs = np.linalg.eigvals(ham)\n",
    "    \n",
    "    gm_vflatten=np.array(eksM_tm).flatten()\n",
    "    #gx_vflatten=np.array(eksX_tm)\n",
    "    Cn=np.real(eigs)\n",
    "    return Cn\n",
    "\n",
    "Origin = coor(0,0,0,0)\n",
    "G1x = coor(1,0,0,0)\n",
    "G1y = coor(0,1,0,0)\n",
    "G2x = coor(0,0,1,0)\n",
    "G2y = coor(0,0,0,1)\n",
    "# G1s = coors([G1x, -G1x, G1y, -G1y])\n",
    "G1s = coors([G1y, G1x, -G1y, -G1x])\n",
    "\n",
    "Gbases = coors(uniques(G1s.coors))\n",
    "Nbases = len(Gbases.coors) ### num of bases\n",
    "print(Nbases)\n",
    " "
   ]
  },
  {
   "cell_type": "code",
   "execution_count": 3,
   "metadata": {},
   "outputs": [
    {
     "name": "stdout",
     "output_type": "stream",
     "text": [
      "[ 29.799      104.84833333]\n"
     ]
    },
    {
     "data": {
      "text/plain": [
       "<ErrorbarContainer object of 3 artists>"
      ]
     },
     "execution_count": 3,
     "metadata": {},
     "output_type": "execute_result"
    },
    {
     "data": {
      "image/png": "[encoded data removed]",
      "text/plain": [
       "<Figure size 640x480 with 1 Axes>"
      ]
     },
     "metadata": {},
     "output_type": "display_data"
    }
   ],
   "source": [
    "# load processed data from npy\n",
    "exp_data0 = np.load('expdata_GM0.05.npy')\n",
    "#\n",
    "a = 1000e-9  # lattice constant of phc\n",
    "c = 299792458\n",
    "normf0 = exp_data0[0]*1e12*a/c\n",
    "\n",
    "y_cut = [0.62,0.7]\n",
    "cut = len(normf0)*(y_cut-np.min(normf0))/(np.max(normf0)-np.min(normf0))\n",
    "normf = normf0[(normf0 > y_cut[0]) & (normf0 <  y_cut[1])]\n",
    "print(cut)\n",
    "#exp_data = exp_data0[:,int(cut[0]):int(cut[1])]\n",
    "frequency = exp_data0[0][(normf0 > y_cut[0]) & (normf0 <  y_cut[1])]\n",
    "normf = frequency*1e12*a/c\n",
    "y = exp_data0[1][(normf0 > y_cut[0]) & (normf0 <  y_cut[1])]\n",
    "sigmay = exp_data0[2][(normf0 > y_cut[0]) & (normf0 <  y_cut[1])]\n",
    "\n",
    "plt.errorbar(normf,y,sigmay,fmt='o')\n"
   ]
  },
  {
   "cell_type": "code",
   "execution_count": 4,
   "metadata": {},
   "outputs": [
    {
     "name": "stdout",
     "output_type": "stream",
     "text": [
      "[0.66431403 0.65239414 0.63114237 0.62306226]\n"
     ]
    },
    {
     "data": {
      "text/plain": [
       "<Figure size 640x480 with 0 Axes>"
      ]
     },
     "metadata": {},
     "output_type": "display_data"
    },
    {
     "data": {
      "image/png": "[encoded data removed]",
      "text/plain": [
       "<Figure size 1500x800 with 2 Axes>"
      ]
     },
     "metadata": {},
     "output_type": "display_data"
    },
    {
     "name": "stdout",
     "output_type": "stream",
     "text": [
      "[0.66431403 0.65239414 0.63114237 0.62306226]\n"
     ]
    }
   ],
   "source": [
    "lim=0.3\n",
    "Nk=1\n",
    "knorm =np.array([0.05])\n",
    "GM_kx=knorm*np.cos(twist/2+np.pi/4)\n",
    "GM_ky=knorm*np.sin(twist/2+np.pi/4)\n",
    "GX_kx=knorm*np.cos(twist/2)\n",
    "GX_ky=knorm*np.sin(twist/2)\n",
    "eksM_tm = [] ### diagonal entries\n",
    "eksX_tm = []\n",
    "eksM_te = [] ### diagonal entries\n",
    "eksX_te = []\n",
    "\n",
    "constant_c=299792458\n",
    "lim=0.1\n",
    "\n",
    "alpha=90*DEG\n",
    "\n",
    "h11=0.005\n",
    "v11=h11\n",
    "u20=0.003\n",
    "\n",
    "decay=0.00\n",
    "neff=2.1\n",
    "ratio=0.23  #0.152\n",
    "\n",
    "\n",
    "#for i in range(Nk):\n",
    "i = 0\n",
    "lr=np.array([ [1,cos(alpha),-1,-cos(alpha)],[cos(alpha),1,-cos(alpha),-1],[-1,-cos(alpha),1,cos(alpha)],[-cos(alpha),-1,cos(alpha),1]]) *decay*1j\n",
    "# \n",
    "# GX_kx[i],GX_ky[i],  \n",
    "eksX_tm=ham1([h11, v11, u20, neff, ratio])   # (0.05, 0 )is the k point we chose\n",
    "knorm_flattern=np.repeat(knorm,4)\n",
    "gx_vflatten=np.array(eksX_tm).flatten()\n",
    "print(gx_vflatten)\n",
    "\n",
    "#===================================================================================================\n",
    "asp=0.6/30\n",
    "\n",
    "plt.figure()\n",
    "fig, axx=plt.subplots(1,2,figsize=(15,8))\n",
    "\n",
    "ax=axx[0]\n",
    "#ax.plot(knorm,np.real(eksX_tm),'-',c='r',alpha=0.5)\n",
    "#ax.plot(-knorm,np.real(eksM_tm),'-',c='r',alpha=0.5)\n",
    "ax.scatter(knorm_flattern,np.real(gx_vflatten),s=10,color='red')\n",
    "#ax.scatter(-knorm_flattern,np.real(gx_vflatten),s=10,color='red')\n",
    "\n",
    "\n",
    "ax.set_xlabel('$k \\ (2\\pi/a)$')\n",
    "ax.set_ylabel('Re $f$ ')\n",
    "# ax.set_ylim([0.8,1])\n",
    "#ax.set_ylim([0.85,0.925])\n",
    "#ax.set_xlim([-lim,lim])\n",
    "\n",
    "ax=axx[1]\n",
    "ax.scatter(knorm_flattern,np.imag(gx_vflatten),s=10,color='blue')\n",
    "#ax.scatter(-knorm_flattern,np.imag(gx_vflatten),s=10,color='blue')\n",
    "\n",
    "ax.set_xlabel('$k \\ (2\\pi/a)$')\n",
    "ax.set_ylabel('Im $f$ ')\n",
    "#ax.set_xlim([-lim,lim])\n",
    "# fig.subplots_adjust(wspace=0.2,hspace=0.0)\n",
    "\n",
    "# plt.tick_params(labelsize=28)  \n",
    "plt.show() \n",
    "print(np.real(gx_vflatten))"
   ]
  },
  {
   "cell_type": "code",
   "execution_count": 5,
   "metadata": {},
   "outputs": [
    {
     "data": {
      "text/plain": [
       "<matplotlib.legend.Legend at 0x24b04ce76d0>"
      ]
     },
     "execution_count": 5,
     "metadata": {},
     "output_type": "execute_result"
    },
    {
     "data": {
      "image/png": "[encoded data removed]",
      "text/plain": [
       "<Figure size 640x480 with 1 Axes>"
      ]
     },
     "metadata": {},
     "output_type": "display_data"
    }
   ],
   "source": [
    "# parameters to infer  h11=h11, v11=v11, u20=u20, neff=neff, ratio=ratio\n",
    "# find peaks as initial value\n",
    "peaks, _ = sg.find_peaks(y, height=1.8, distance=1,width = 1.5)\n",
    "\n",
    "chose_peak = np.vstack((y[peaks],normf[peaks])).T\n",
    "indices = np.argsort(chose_peak[:, 0])[::-1]\n",
    "chose_peak = chose_peak[indices]\n",
    "# print(chose_peak)\n",
    "plt.plot(chose_peak[:,1], chose_peak[:,0], \"x\",c = 'r',label = 'peaks')\n",
    "plt.scatter(normf,y,label = 'data');\n",
    "plt.legend()"
   ]
  },
  {
   "cell_type": "code",
   "execution_count": 6,
   "metadata": {
    "tags": []
   },
   "outputs": [],
   "source": [
    "from pytensor import tensor as pt\n",
    "class peak_position(pt.Op):\n",
    "    \"\"\"\n",
    "    Specify what type of object will be passed and returned to the Op when it is\n",
    "    called.\n",
    "    \"\"\"\n",
    "    itypes = [pt.dvector]  # expects a vector of parameter values when called\n",
    "    otypes = [pt.dvector]  # outputs a vector of peak positions\n",
    "\n",
    "    def __init__(self, Hamiltonian):\n",
    "        \"\"\"\n",
    "        Initialise the Op with various things that our log-likelihood function\n",
    "        requires. Below are the things that are needed in this particular\n",
    "        example.\n",
    "\n",
    "        Parameters\n",
    "        ----------\n",
    "        Hamiltonian:\n",
    "            The Hamiltonian function we've defined\n",
    "        \"\"\"\n",
    "        # add inputs as class attributes\n",
    "        self.ham = Hamiltonian #your Hamiltonian function goes in here\n",
    "\n",
    "    def perform(self, node, inputs, outputs):\n",
    "        # the method that is used when calling the Op\n",
    "        (theta,) = inputs  # this will contain all variables of the Hamiltonian function\n",
    "        # call the hamiltonian function\n",
    "        pos = self.ham(theta)\n",
    "        outputs[0][0] = np.array(pos)  # output the eigenvalues"
   ]
  },
  {
   "cell_type": "code",
   "execution_count": 7,
   "metadata": {},
   "outputs": [
    {
     "ename": "SamplingError",
     "evalue": "Initial evaluation of model at starting point failed!\nStarting values:\n{'w': array([2.25, 2.25, 2.25, 2.25]), 'h11': array(0.0055), 'v11': array(0.0055), 'u20': array(0.003), 'neff': array(2.1), 'ratio': array(0.3), 'peak_width': array(0.0055), 'line': array(5.30027305)}\n\nInitial evaluation results:\n{'w': -1.62, 'h11': 4.71, 'v11': 4.71, 'u20': 5.52, 'neff': 1.61, 'ratio': 1.61, 'peak_width': 4.71, 'line': -inf, 'norm_frequency': -233242.89}",
     "output_type": "error",
     "traceback": [
      "\u001b[1;31m---------------------------------------------------------------------------\u001b[0m",
      "\u001b[1;31mSamplingError\u001b[0m                             Traceback (most recent call last)",
      "Cell \u001b[1;32mIn[7], line 22\u001b[0m\n\u001b[0;32m     20\u001b[0m     \u001b[38;5;66;03m# Likelihood of observations\u001b[39;00m\n\u001b[0;32m     21\u001b[0m     measurements \u001b[38;5;241m=\u001b[39m pm\u001b[38;5;241m.\u001b[39mNormal(\u001b[38;5;124m'\u001b[39m\u001b[38;5;124mnorm_frequency\u001b[39m\u001b[38;5;124m'\u001b[39m, mu\u001b[38;5;241m=\u001b[39mline, sigma\u001b[38;5;241m=\u001b[39msigmay, observed\u001b[38;5;241m=\u001b[39my)\n\u001b[1;32m---> 22\u001b[0m best_fit, scipy_output \u001b[38;5;241m=\u001b[39m \u001b[43mpm\u001b[49m\u001b[38;5;241;43m.\u001b[39;49m\u001b[43mfind_MAP\u001b[49m\u001b[43m(\u001b[49m\u001b[43mmodel\u001b[49m\u001b[38;5;241;43m=\u001b[39;49m\u001b[43mpeaks_model\u001b[49m\u001b[43m,\u001b[49m\u001b[43m \u001b[49m\u001b[43mreturn_raw\u001b[49m\u001b[38;5;241;43m=\u001b[39;49m\u001b[38;5;28;43;01mTrue\u001b[39;49;00m\u001b[43m)\u001b[49m\n",
      "File \u001b[1;32m~\\anaconda\\envs\\phys201\\Lib\\site-packages\\pymc\\tuning\\starting.py:125\u001b[0m, in \u001b[0;36mfind_MAP\u001b[1;34m(start, vars, method, return_raw, include_transformed, progressbar, maxeval, model, seed, *args, **kwargs)\u001b[0m\n\u001b[0;32m    118\u001b[0m ipfn \u001b[38;5;241m=\u001b[39m make_initial_point_fn(\n\u001b[0;32m    119\u001b[0m     model\u001b[38;5;241m=\u001b[39mmodel,\n\u001b[0;32m    120\u001b[0m     jitter_rvs\u001b[38;5;241m=\u001b[39m\u001b[38;5;28mset\u001b[39m(),\n\u001b[0;32m    121\u001b[0m     return_transformed\u001b[38;5;241m=\u001b[39m\u001b[38;5;28;01mTrue\u001b[39;00m,\n\u001b[0;32m    122\u001b[0m     overrides\u001b[38;5;241m=\u001b[39mstart,\n\u001b[0;32m    123\u001b[0m )\n\u001b[0;32m    124\u001b[0m start \u001b[38;5;241m=\u001b[39m ipfn(seed)\n\u001b[1;32m--> 125\u001b[0m \u001b[43mmodel\u001b[49m\u001b[38;5;241;43m.\u001b[39;49m\u001b[43mcheck_start_vals\u001b[49m\u001b[43m(\u001b[49m\u001b[43mstart\u001b[49m\u001b[43m)\u001b[49m\n\u001b[0;32m    127\u001b[0m vars_dict \u001b[38;5;241m=\u001b[39m {var\u001b[38;5;241m.\u001b[39mname: var \u001b[38;5;28;01mfor\u001b[39;00m var \u001b[38;5;129;01min\u001b[39;00m \u001b[38;5;28mvars\u001b[39m}\n\u001b[0;32m    128\u001b[0m x0 \u001b[38;5;241m=\u001b[39m DictToArrayBijection\u001b[38;5;241m.\u001b[39mmap(\n\u001b[0;32m    129\u001b[0m     {var_name: value \u001b[38;5;28;01mfor\u001b[39;00m var_name, value \u001b[38;5;129;01min\u001b[39;00m start\u001b[38;5;241m.\u001b[39mitems() \u001b[38;5;28;01mif\u001b[39;00m var_name \u001b[38;5;129;01min\u001b[39;00m vars_dict}\n\u001b[0;32m    130\u001b[0m )\n",
      "File \u001b[1;32m~\\anaconda\\envs\\phys201\\Lib\\site-packages\\pymc\\model.py:1768\u001b[0m, in \u001b[0;36mModel.check_start_vals\u001b[1;34m(self, start)\u001b[0m\n\u001b[0;32m   1765\u001b[0m initial_eval \u001b[38;5;241m=\u001b[39m \u001b[38;5;28mself\u001b[39m\u001b[38;5;241m.\u001b[39mpoint_logps(point\u001b[38;5;241m=\u001b[39melem)\n\u001b[0;32m   1767\u001b[0m \u001b[38;5;28;01mif\u001b[39;00m \u001b[38;5;129;01mnot\u001b[39;00m \u001b[38;5;28mall\u001b[39m(np\u001b[38;5;241m.\u001b[39misfinite(v) \u001b[38;5;28;01mfor\u001b[39;00m v \u001b[38;5;129;01min\u001b[39;00m initial_eval\u001b[38;5;241m.\u001b[39mvalues()):\n\u001b[1;32m-> 1768\u001b[0m     \u001b[38;5;28;01mraise\u001b[39;00m SamplingError(\n\u001b[0;32m   1769\u001b[0m         \u001b[38;5;124m\"\u001b[39m\u001b[38;5;124mInitial evaluation of model at starting point failed!\u001b[39m\u001b[38;5;130;01m\\n\u001b[39;00m\u001b[38;5;124m\"\u001b[39m\n\u001b[0;32m   1770\u001b[0m         \u001b[38;5;124mf\u001b[39m\u001b[38;5;124m\"\u001b[39m\u001b[38;5;124mStarting values:\u001b[39m\u001b[38;5;130;01m\\n\u001b[39;00m\u001b[38;5;132;01m{\u001b[39;00melem\u001b[38;5;132;01m}\u001b[39;00m\u001b[38;5;130;01m\\n\u001b[39;00m\u001b[38;5;130;01m\\n\u001b[39;00m\u001b[38;5;124m\"\u001b[39m\n\u001b[0;32m   1771\u001b[0m         \u001b[38;5;124mf\u001b[39m\u001b[38;5;124m\"\u001b[39m\u001b[38;5;124mInitial evaluation results:\u001b[39m\u001b[38;5;130;01m\\n\u001b[39;00m\u001b[38;5;132;01m{\u001b[39;00minitial_eval\u001b[38;5;132;01m}\u001b[39;00m\u001b[38;5;124m\"\u001b[39m\n\u001b[0;32m   1772\u001b[0m     )\n",
      "\u001b[1;31mSamplingError\u001b[0m: Initial evaluation of model at starting point failed!\nStarting values:\n{'w': array([2.25, 2.25, 2.25, 2.25]), 'h11': array(0.0055), 'v11': array(0.0055), 'u20': array(0.003), 'neff': array(2.1), 'ratio': array(0.3), 'peak_width': array(0.0055), 'line': array(5.30027305)}\n\nInitial evaluation results:\n{'w': -1.62, 'h11': 4.71, 'v11': 4.71, 'u20': 5.52, 'neff': 1.61, 'ratio': 1.61, 'peak_width': 4.71, 'line': -inf, 'norm_frequency': -233242.89}"
     ]
    }
   ],
   "source": [
    "n = 4 # fit four peaks\n",
    "# set up the model\n",
    "peak = peak_position(ham1)\n",
    "peaks_model = pm.Model()\n",
    "with peaks_model:\n",
    "    # Priors for unknown model parameters\n",
    "    An = pm.Uniform(\"w\", 1.5, 3.0, shape = n, transform = None)\n",
    "    h11 = pm.Uniform('h11',0.001,0.01, transform = None)\n",
    "    v11 = pm.Uniform('v11',0.001,0.01, transform = None)\n",
    "    u20 = pm.Uniform('u20',0.001,0.005, transform = None)\n",
    "    neff = pm.Uniform('neff',2.0,2.2, transform = None)\n",
    "    ratio = pm.Uniform('ratio',0.2,0.4, transform = None)\n",
    "    sigma_L = pm.Uniform('peak_width',1e-3,1e-2, transform = None)\n",
    "    \n",
    "    theta = pt.as_tensor_variable([h11,v11,u20,neff,ratio])\n",
    "    Cn = pm.Deterministic('peak_pos', peak(theta)) #calculate the peak position from others variables\n",
    "    \n",
    "\n",
    "    line = pm.NormalMixture('line', w = An, mu = Cn, sigma = sigma_L) #spectral line model\n",
    "\n",
    "    # Likelihood of observations\n",
    "    measurements = pm.Normal('norm_frequency', mu=line, sigma=sigmay, observed=y)\n",
    "best_fit, scipy_output = pm.find_MAP(model=peaks_model, return_raw=True)"
   ]
  },
  {
   "cell_type": "code",
   "execution_count": null,
   "metadata": {},
   "outputs": [],
   "source": [
    "import arviz as az\n",
    "\n",
    "with peaks_model:\n",
    "    idata = pm.sample(500)\n",
    "    az.plot_trace(idata)"
   ]
  }
 ],
 "metadata": {
  "kernelspec": {
   "display_name": "Python 3 (ipykernel)",
   "language": "python",
   "name": "python3"
  },
  "language_info": {
   "codemirror_mode": {
    "name": "ipython",
    "version": 3
   },
   "file_extension": ".py",
   "mimetype": "text/x-python",
   "name": "python",
   "nbconvert_exporter": "python",
   "pygments_lexer": "ipython3",
   "version": "3.11.0"
  },
  "toc": {
   "base_numbering": 1,
   "nav_menu": {},
   "number_sections": true,
   "sideBar": true,
   "skip_h1_title": true,
   "title_cell": "Table of Contents",
   "title_sidebar": "Contents",
   "toc_cell": false,
   "toc_position": {},
   "toc_section_display": true,
   "toc_window_display": false
  }
 },
 "nbformat": 4,
 "nbformat_minor": 4
}
