{
 "cells": [
  {
   "cell_type": "markdown",
   "metadata": {},
   "source": [
    "# Photonic Crystal Hamiltonian Inference\n",
    "###       Final Project, Group 5, PHYS201, Harvard University, Spring 2023\n",
    "####      Group Members: Thi Huong Thao Dinh, Fan Du, Yiting Huang"
   ]
  },
  {
   "cell_type": "code",
   "execution_count": null,
   "metadata": {},
   "outputs": [],
   "source": [
    "#import the package \n",
    "import inference\n",
    "\n"
   ]
  },
  {
   "cell_type": "markdown",
   "metadata": {},
   "source": [
    "## Background\n",
    "Photonic crystals (PhC) are micro/nano artificial atoms composed of periodically perturbed refractive indices dielectric material, which can manipulate the propagation of electromagnetic (EM) waves in a similar manner to how actual crystals manipulate electron waves. The periodic symmetry and Maxwell equations guarantee that the eigenmodes of EM waves can be held in PhC are represented by photonic band structures. One popular method to analyze the band structures of photonic crystals is to apply the Hamiltonian formalism, however, the method to select Hamiltonian basis has been left unrevealed in the majority of related papers. This will be the main purpose of our project.\n",
    "\n",
    "## Generative Model: The Hamiltonian Matrix\n",
    "The Hamiltonian matrix consists of coupling parameters that describe the interaction between different Bloch waves in the basis. At each value of $(k_x,k_y)$, the energy levels can be obtained by diagonalizing the Hamiltonian matrix and finding its eigenvalues. Due to the C4 symmetry of our square lattice, the allowed basis sizes are 5, 9, 13,... We will perform model comparison to infer what basis size yields the best fit to our measured data.\n",
    "\n",
    "We start with a model that consists of 4 atoms surrounding the $\\Gamma$ point in $k-$space, whoses inteaction can be described by 5 coupling parameters:\n",
    "\n",
    "![title](img/5-basis-doodle.png)\n",
    "\n",
    "Where $U_{10},U_{11}$ and $U_{20}$ represent coupling between atoms of different distances, $\\epsilon_0$ being the energy level at the $\\Gamma$ point, and $\\epsilon$ being the energy level of other atoms. Let $P_1$ be the $\\Gamma$ point, $P_2,P_3,P_4,P_5$ be the 4 points surrounding it by a clock-wise order starting at the point below the $\\Gamma$ point. If we describe the model in the basis of $\\{ P_1,P_2,P_3,P_4,P_5\\}$, then the corresponding Hamiltonian matrix is:\n",
    "$$ H =  \\begin{pmatrix} \\epsilon_0 & U_{10}& U_{10}& U_{10}& U_{10} \\\\ U_{10}& \\epsilon & U_{11}& U_{20}& U_{11} \\\\ U_{10}& U_{11}& \\epsilon & U_{11}& U_{20} \\\\ U_{10}& U_{20}&U_{11}& \\epsilon & U_{11}\\\\ U_{10}& U_{11}&U_{20}& U_{11}  & \\epsilon  \\end{pmatrix}$$\n",
    "\n",
    "The matrix is inherently diagonalizable and has the eigenvalues $\\{ e_1,e_2,e_3,e_4,e_5\\}$. \n",
    "\n",
    "($\\textit{Data tells us that two of these eigenvlaues are always equal, we do not know why right now.}$) \n",
    "\n",
    "### Multiple Gaussian Peak Model (at the particular point $\\Gamma$ )\n",
    "\n",
    "Our model is a multiple Gaussian peak model where the peak positions are equal to $\\{ e_1,e_2,e_3,e_4,e_5\\}$ and the widths are equal to nuisance parameters that we will marginalize over. The statistical model can be described as \n",
    "\n",
    "$$ \n",
    "e_i \\sim \\text{Uniform} \\,(e_{i,min},e_{i,max}) \\\\\n",
    "\\sigma \\sim \\text{Uniform} \\,(c_{min},c_{max})\\\\ \n",
    "M = \\sum_i \\text{Normal} \\, (e_i, \\sigma) $$ \n",
    "\n",
    "where $e_{i,min},e_{i,max}, c_{min},c_{max}$ are constants calculated sampled based on the raw data.\n",
    "\n",
    "\n",
    "\n",
    "\n",
    "\n"
   ]
  },
  {
   "cell_type": "code",
   "execution_count": null,
   "metadata": {},
   "outputs": [],
   "source": []
  }
 ],
 "metadata": {
  "interpreter": {
   "hash": "7111489581311efbbab4af175e87cd02a03f82e408bfbd7f40da89198af4ed6d"
  },
  "kernelspec": {
   "display_name": "Python 3.11.0 ('phys201')",
   "language": "python",
   "name": "python3"
  },
  "language_info": {
   "name": "python",
   "version": "3.11.0"
  },
  "orig_nbformat": 4
 },
 "nbformat": 4,
 "nbformat_minor": 2
}
