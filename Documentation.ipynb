{
 "cells": [
  {
   "cell_type": "markdown",
   "metadata": {},
   "source": [
    "# Photonic Crystal Hamiltonian Inference\n",
    "###       Final Project, Group 5, PHYS201, Harvard University, Spring 2023\n",
    "####      Group Members: Thi Huong Thao Dinh, Fan Du, Yiting Huang"
   ]
  },
  {
   "cell_type": "markdown",
   "metadata": {},
   "source": [
    "## Background\n",
    "Photonic crystals (PhC) are micro/nano artificial atoms composed of periodically perturbed refractive indices dielectric material, which can manipulate the propagation of electromagnetic (EM) waves in a similar manner to how actual crystals manipulate electron waves. The periodic symmetry and Maxwell equations guarantee that the eigenmodes of EM waves can be held in PhC are represented by photonic band structures. One popular method to analyze the band structures of photonic crystals is to apply the Hamiltonian formalism, however, the method to select Hamiltonian basis has been left unrevealed in the majority of related papers. This will be the main purpose of our project.\n",
    "\n",
    "## Generative Model: The Hamiltonian Matrix\n",
    "The Hamiltonian matrix consists of coupling parameters that describe the interaction between different Bloch waves in the basis. At each value of $(k_x,k_y)$, the energy levels can be obtained by diagonalizing the Hamiltonian matrix and finding its eigenvalues. Due to the C4 symmetry of our square lattice, the allowed basis sizes are 5, 9, 13,...\n",
    "\n",
    "Right now, this package allows you to infer the coupling parameters in a 5 basis model: 5 Bloch waves at $\\Gamma$ point and its four surrounding symmetric points in $k-$space, whoses interaction can be described by 6 coupling parameters.\n",
    "\n",
    "![title](./reference_img/5-basis-doodle.png)\n",
    "\n",
    "$U_{10},U_{11}$ and $U_{20}$ represent couplings between Bloch waves at different $k$ points, $\\epsilon_0$ being the energy of the Bloch wave at the $\\Gamma$ point, $\\epsilon_x$ being the energy of other Bloch waves along $k_x$, $\\epsilon_y$ being the energy of other Bloch waves along $k_y$. Let $P_1$ be the $\\Gamma$ point, $P_2,P_3,P_4,P_5$ be the 4 points surrounding it by a clock-wise order starting at the point below the $\\Gamma$ point. If we describe the model in the basis of $\\{ P_1,P_2,P_3,P_4,P_5\\}$, then the corresponding Hamiltonian matrix is:\n",
    "$$ H =  \\begin{pmatrix} \\epsilon_0 & U_{10}& U_{10}& U_{10}& U_{10} \\\\ U_{10}& \\epsilon_y & U_{11}& U_{20}& U_{11} \\\\ U_{10}& U_{11}& \\epsilon_x & U_{11}& U_{20} \\\\ U_{10}& U_{20}&U_{11}& \\epsilon_y & U_{11}\\\\ U_{10}& U_{11}&U_{20}& U_{11}  & \\epsilon_x  \\end{pmatrix}$$\n",
    "\n",
    "The matrix is inherently diagonalizable and has the eigenvalues $\\{ e_0,e_1,e_2,e_3,e_4\\}$. \n",
    "\n",
    "From the measurement data, the energy mode at $\\Gamma$ point is always too weak to detect. Therefore, one can simplify the model further to include basis of 4 k-vectors $\\{P_2,P_3,P_4,P_5\\}$ only. Our reduced Hamiltonian matrix becomes \n",
    "$$ H_{reduced} =  \\begin{pmatrix} \\epsilon_y & U_{11}& U_{20}& U_{11} \\\\ U_{11}& \\epsilon_x & U_{11}& U_{20} \\\\ U_{20}&U_{11}& \\epsilon_y & U_{11}\\\\ U_{11}&U_{20}& U_{11}  & \\epsilon_x  \\end{pmatrix}$$\n",
    "\n",
    "And the eigenvalues $\\{e_1,e_2,e_3,e_4\\}$ represent 4 energy bands of the photonic crystal.\n",
    "\n",
    "### Multiple Gaussian Peak Model of the energy spectrum\n",
    "\n",
    "In real measurement, 4 energy bands of the photonic crystals appear as four peaks in the frequency-intensity line plot. Therefore, our model for the energy spectrum is a multiple Gaussian peak model where the peak positions are $\\{e_1,e_2,e_3,e_4\\}$.  The background $A_0$, amplitudes of four peaks $A_1, A_2, A_3, A_4$ and the peak width $\\sigma_L$ are the nuisance parameters that we will marginalize over.\n",
    "\n",
    "$$ y_{predicted} = A_0 + \\sum_1^4 A_i \\text{ Normal}(e_i, \\sigma_L)$$\n",
    "\n",
    "Firstly, we need to choose the priors for the parameters. For the coupling parameters $U_{11}$ and $U_{20}$, we know their lower and upper bounds from previous experiments (Reference). For the peak background and amplitudes, they are bounded by zero and the saturated intensity of the CCD detector. For the peak width, it is also bounded by the resolution in frequency of the laser and ?  Since other these bounds we don't have any other information about the distributions of these parameters, in this package, we used uniform priors for all parameters.\n",
    "\n",
    "$$\\theta_n \\sim \\text{Uniform} (\\theta_{n,min},\\theta_{n,max})$$\n",
    "\n",
    "for $\\theta_n$ in $\\{U_{11}, U_{20}, A_0, A_1, A_2, A_3, A_4, \\sigma_L \\}$. Note that for the uncoupling energies $\\epsilon_x$ and $\\epsilon_y$, we can extract their exact values from the (reference?) and use them as prior information.\n",
    "\n",
    "Secondly, we consider all the uncertainty sources in measuring the light intensity such as beam profile, CCD sensitivity,... These uncertainties are all Gaussian-like, thus, our likelihood is also well-described by Gaussian distribution:\n",
    "\n",
    "$$y \\sim \\text{Gaussian} (y_{predicted}, \\sigma_y)$$"
   ]
  },
  {
   "cell_type": "markdown",
   "metadata": {},
   "source": [
    "## Using the photonic-hamiltonian package"
   ]
  },
  {
   "cell_type": "markdown",
   "metadata": {},
   "source": [
    "### Load the data file"
   ]
  },
  {
   "cell_type": "markdown",
   "metadata": {},
   "source": [
    "Before using the package, please make sure that the data is converted into .npy format, where the first row is frequency, second row is measured intensity, and third row is uncertainty of intensity.\n",
    "\n",
    "Our io.py script provides load_data(filename) function which converts the data in .npy format into an xarray with three data labels 'normf', 'spectrum', 'spectrum_std'."
   ]
  },
  {
   "cell_type": "code",
   "execution_count": null,
   "metadata": {
    "tags": []
   },
   "outputs": [],
   "source": [
    "import numpy as np\n",
    "import xarray as xr\n",
    "import matplotlib.pyplot as plt\n",
    "import pymc as pm\n",
    "import arviz as az\n",
    "\n",
    "from photonic_hamiltonian import io\n",
    "#load an example data file, data courtersy: Fan Du\n",
    "real_data = io.load_data('example_data.npy')"
   ]
  },
  {
   "cell_type": "markdown",
   "metadata": {},
   "source": [
    "We can plot this data to visualize how the four peaks look like in a real measurement"
   ]
  },
  {
   "cell_type": "code",
   "execution_count": null,
   "metadata": {},
   "outputs": [],
   "source": [
    "freq = real_data['normf'].to_numpy()\n",
    "intensity = real_data['spectrum'].to_numpy()\n",
    "intensity_sig = real_data['spectrum_std'].to_numpy()\n",
    "plt.errorbar(normf,y,sigmay,fmt='o')\n",
    "plt.xlabel('Normalized Frequency')\n",
    "plt.ylabel('Normalized Intensity')\n",
    "plt.title('Example data showing four energy bands of a single C4-symmetric photonic crystal'"
   ]
  },
  {
   "cell_type": "markdown",
   "metadata": {},
   "source": [
    "### Inference fit using pymc"
   ]
  },
  {
   "cell_type": "markdown",
   "metadata": {},
   "source": [
    "In the package, the Model.py script helps you define and diagonalize the Hamiltonian matrix and build a multi Gaussian peak model from the matrix's eigenvalues. You can use this pymc model for sampling, plotting the posterior, or finding the maximum a posteriori (MAP) point to extract fit parameters.\n",
    "\n",
    "The Model.py script provides the function Hamiltonian_model(data, prior_bounds):\n",
    "Input parameters are data extracted and formatted by io.py, and a dictionary which maps parameters' names ('u11', 'u20', 'A0', 'A1', 'A2', 'A3' , 'A4', 'sigma_L') to their corresponding bounds."
   ]
  },
  {
   "cell_type": "code",
   "execution_count": 28,
   "metadata": {
    "tags": []
   },
   "outputs": [],
   "source": [
    "from photonic_hamiltonian import Model"
   ]
  },
  {
   "cell_type": "markdown",
   "metadata": {},
   "source": [
    "#### Inference on simulated data"
   ]
  },
  {
   "cell_type": "markdown",
   "metadata": {},
   "source": [
    "To test if running our model gives a reasonable result for parameter estimation, we first generate a simulated data with given values for all the parameters"
   ]
  },
  {
   "cell_type": "code",
   "execution_count": 37,
   "metadata": {
    "tags": []
   },
   "outputs": [
    {
     "data": {
      "text/plain": [
       "Text(0.5, 1.0, 'Simulated data showing four energy bands of a single C4-symmetric photonic crystal')"
      ]
     },
     "execution_count": 37,
     "metadata": {},
     "output_type": "execute_result"
    },
    {
     "data": {
      "image/png": "[encoded data removed]",
      "text/plain": [
       "<Figure size 640x480 with 1 Axes>"
      ]
     },
     "metadata": {},
     "output_type": "display_data"
    }
   ],
   "source": [
    "# Create simulated data\n",
    "simu_normf = np.linspace(0.62,0.70,100)    # create normalized frequency, \"x\" variable \n",
    "\n",
    "#set all hamiltonian parameters as some constants\n",
    "u11 = 0.007\n",
    "u20 = 1e-5\n",
    "ex = 0.6346    # for k = (0,+-0.05) the energy of uncoupled slab mode in kx direction\n",
    "ey = 0.669    # for k = (+-0.05,0) the energy of uncoupled slab mode in ky direction\n",
    "\n",
    "#Hamiltonian matrix and its eigenvalues\n",
    "H = [[ey,u11,u20,u11],\n",
    "     [u11,ex,u11,u20],\n",
    "     [u20,u11,ex,u11],\n",
    "     [u11,u20,u11,ey]]\n",
    "Cn = np.real(np.linalg.eigvals(H))\n",
    "\n",
    "#set all peak parameters as some constants\n",
    "A0 = 0.5\n",
    "An = [1, 1.5, 1, 1.2]\n",
    "sigma_L = 0.002\n",
    "\n",
    "#create normalized intensity\n",
    "line_each = [Ai * np.exp(-(simu_normf - Ci)**2 / (2 * sigma_L**2)) for Ai, Ci in zip(An, Cn)]\n",
    "line = np.sum(line_each, axis=0) + A0\n",
    "\n",
    "#create noise\n",
    "noise = np.random.normal(0, 0.04, 100)\n",
    "\n",
    "#create data array\n",
    "simu_data = xr.Dataset(data_vars = {'spectrum': ('normf', line + noise),\n",
    "                                  'spectrum_std': ('normf', noise)},\n",
    "                     coords = { 'normf': simu_normf})\n",
    "\n",
    "#plot the simulated data to visualize the four peaks\n",
    "plt.errorbar(simu_normf, line + noise, abs(noise), fmt='o')\n",
    "plt.xlabel('Normalized Frequency')\n",
    "plt.ylabel('Normalized Intensity')\n",
    "plt.title('Simulated data showing four energy bands of a single C4-symmetric photonic crystal')"
   ]
  },
  {
   "cell_type": "markdown",
   "metadata": {},
   "source": [
    "From the raw data, we can guess some reasonable bounds for our priors."
   ]
  },
  {
   "cell_type": "code",
   "execution_count": 38,
   "metadata": {
    "tags": []
   },
   "outputs": [],
   "source": [
    "#guess the prior bounds\n",
    "simu_prior_bounds = {'h11':[0.003, 0.01], 'u20':[-1e-3, 1e-3], 'A0':[0, 1.2], 'A1':[0.5, 2.5],'A2':[0.5, 2.5], 'A3':[0.5, 2.5], 'A4':[0.5, 2,5], 'peak_width':[0.0005, 0.01]}\n",
    "\n",
    "#create the model \n",
    "simu_ham_model = Model.Hamiltonian_model(simu_data,prior_bounds)"
   ]
  },
  {
   "cell_type": "code",
   "execution_count": null,
   "metadata": {
    "tags": []
   },
   "outputs": [
    {
     "name": "stderr",
     "output_type": "stream",
     "text": [
      "Multiprocess sampling (4 chains in 4 jobs)\n",
      "CompoundStep\n",
      ">Slice: [h11]\n",
      ">Slice: [u20]\n",
      ">Slice: [A0]\n",
      ">Slice: [A1]\n",
      ">Slice: [A2]\n",
      ">Slice: [A3]\n",
      ">Slice: [A4]\n",
      ">Slice: [peak_width]\n"
     ]
    },
    {
     "data": {
      "text/html": [
       "\n",
       "<style>\n",
       "    /* Turns off some styling */\n",
       "    progress {\n",
       "        /* gets rid of default border in Firefox and Opera. */\n",
       "        border: none;\n",
       "        /* Needs to be in here for Safari polyfill so background images work as expected. */\n",
       "        background-size: auto;\n",
       "    }\n",
       "    progress:not([value]), progress:not([value])::-webkit-progress-bar {\n",
       "        background: repeating-linear-gradient(45deg, #7e7e7e, #7e7e7e 10px, #5c5c5c 10px, #5c5c5c 20px);\n",
       "    }\n",
       "    .progress-bar-interrupted, .progress-bar-interrupted::-webkit-progress-bar {\n",
       "        background: #F44336;\n",
       "    }\n",
       "</style>\n"
      ],
      "text/plain": [
       "<IPython.core.display.HTML object>"
      ]
     },
     "metadata": {},
     "output_type": "display_data"
    },
    {
     "data": {
      "text/html": [
       "\n",
       "    <div>\n",
       "      <progress value='0' class='' max='2040' style='width:300px; height:20px; vertical-align: middle;'></progress>\n",
       "      0.00% [0/2040 00:00&lt;? Sampling 4 chains, 0 divergences]\n",
       "    </div>\n",
       "    "
      ],
      "text/plain": [
       "<IPython.core.display.HTML object>"
      ]
     },
     "metadata": {},
     "output_type": "display_data"
    }
   ],
   "source": [
    "with simu_ham_model:\n",
    "    simu_idata = pm.sample(500, tune=10)\n",
    "\n",
    "az.plot_trace(simu_idata)"
   ]
  },
  {
   "cell_type": "markdown",
   "metadata": {},
   "source": [
    "#### Inference on real data"
   ]
  }
 ],
 "metadata": {
  "interpreter": {
   "hash": "7111489581311efbbab4af175e87cd02a03f82e408bfbd7f40da89198af4ed6d"
  },
  "kernelspec": {
   "display_name": "Python 3 (ipykernel)",
   "language": "python",
   "name": "python3"
  },
  "language_info": {
   "codemirror_mode": {
    "name": "ipython",
    "version": 3
   },
   "file_extension": ".py",
   "mimetype": "text/x-python",
   "name": "python",
   "nbconvert_exporter": "python",
   "pygments_lexer": "ipython3",
   "version": "3.11.0"
  }
 },
 "nbformat": 4,
 "nbformat_minor": 4
}
