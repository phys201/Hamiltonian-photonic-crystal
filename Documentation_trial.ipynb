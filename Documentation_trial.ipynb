{
 "cells": [
  {
   "cell_type": "markdown",
   "metadata": {},
   "source": [
    "# Photonic Crystal Hamiltonian Inference\n",
    "###       Final Project, Group 5, PHYS201, Harvard University, Spring 2023\n",
    "####      Group Members: Thi Huong Thao Dinh, Fan Du, Yiting Huang"
   ]
  },
  {
   "cell_type": "code",
   "execution_count": 1,
   "metadata": {},
   "outputs": [],
   "source": [
    "#import the package \n",
    "import inference\n",
    "\n"
   ]
  },
  {
   "cell_type": "markdown",
   "metadata": {},
   "source": [
    "## Background\n",
    "Photonic crystals (PhC) are micro/nano artificial atoms composed of periodically perturbed refractive indices dielectric material, which can manipulate the propagation of electromagnetic (EM) waves in a similar manner to how actual crystals manipulate electron waves. The periodic symmetry and Maxwell equations guarantee that the eigenmodes of EM waves can be held in PhC are represented by photonic band structures. One popular method to analyze the band structures of photonic crystals is to apply the Hamiltonian formalism, however, the method to select Hamiltonian basis has been left unrevealed in the majority of related papers. This will be the main purpose of our project.\n",
    "\n",
    "## Generative Model: The Hamiltonian Matrix\n",
    "The Hamiltonian matrix consists of coupling parameters that describe the interaction between different Bloch waves in the basis. At each value of $(k_x,k_y)$, the energy levels can be obtained by diagonalizing the Hamiltonian matrix and finding its eigenvalues. Due to the C4 symmetry of our square lattice, the allowed basis sizes are 5, 9, 13,... We will perform model comparison to infer what basis size yields the best fit to our measured data.\n",
    "\n",
    "We start with a model that consists of 4 atoms surrounding the $\\Gamma$ point in $k-$space, whoses inteaction can be described by 5 coupling parameters:\n",
    "\n",
    "![title](./reference_img/5-basis-doodle.png)\n",
    "\n",
    "Where $U_{10},U_{11}$ and $U_{20}$ represent coupling between atoms of different distances, $\\epsilon_0$ being the energy level at the $\\Gamma$ point, and $\\epsilon$ being the energy level of other atoms. Let $P_1$ be the $\\Gamma$ point, $P_2,P_3,P_4,P_5$ be the 4 points surrounding it by a clock-wise order starting at the point below the $\\Gamma$ point. If we describe the model in the basis of $\\{ P_1,P_2,P_3,P_4,P_5\\}$, then the corresponding Hamiltonian matrix is:\n",
    "$$ H =  \\begin{pmatrix} \\epsilon_0 & U_{10}& U_{10}& U_{10}& U_{10} \\\\ U_{10}& \\epsilon & U_{11}& U_{20}& U_{11} \\\\ U_{10}& U_{11}& \\epsilon & U_{11}& U_{20} \\\\ U_{10}& U_{20}&U_{11}& \\epsilon & U_{11}\\\\ U_{10}& U_{11}&U_{20}& U_{11}  & \\epsilon  \\end{pmatrix}$$\n",
    "\n",
    "The matrix is inherently diagonalizable and has the eigenvalues $\\{ e_1,e_2,e_3,e_4,e_5\\}$. \n",
    "\n",
    "($\\textit{Data tells us that two of these eigenvlaues are always equal, we do not know why right now.}$) \n",
    "\n",
    "### Multiple Lorentzian Peak Model (at the particular point $\\Gamma$ )\n",
    "\n",
    "Our model is a multiple Lorentzian peak model where the peak positions are equal to $\\{ e_1,e_2,e_3,e_4,e_5\\}$ and the widths are equal to nuisance parameters that we will marginalize over. The statistical model can be described as \n",
    "\n",
    "$$ \n",
    "e_i \\sim \\text{Uniform} \\,(e_{i,min},e_{i,max}) \\\\\n",
    "\\gamma \\sim \\text{Uniform} \\,(c_{min},c_{max})\\\\ \n",
    "M = \\sum_i \\text{Lorentzian} \\, (e_i, \\gamma) $$ \n",
    "\n",
    "where $e_{i,min},e_{i,max}, c_{min},c_{max}$ are constants calculated sampled based on the raw data.\n",
    "\n",
    "\n",
    "\n",
    "\n",
    "\n"
   ]
  },
  {
   "cell_type": "markdown",
   "metadata": {},
   "source": [
    "## Building Up the Minimal Generative Model\n",
    "\n"
   ]
  },
  {
   "cell_type": "code",
   "execution_count": 2,
   "metadata": {
    "tags": []
   },
   "outputs": [],
   "source": [
    "#import the conventional packages for PYMC inference\n",
    "import numpy as np\n",
    "import matplotlib\n",
    "import matplotlib.pyplot as plt\n",
    "import seaborn as sns\n",
    "import xarray as xr\n",
    "import pandas as pd\n",
    "import pymc as pm\n",
    "import scipy.signal as sg\n",
    "import numpy as np\n",
    "import scipy.signal\n",
    "import matplotlib.pyplot as plt\n",
    "from matplotlib import rcParams\n",
    "# import pytesseract as pt\n",
    "import seaborn as sns\n",
    "import matplotlib.patches as patches\n",
    "import matplotlib.gridspec as gs\n",
    "import math\n",
    "from importlib import reload\n",
    "from PIL import Image\n",
    "import matplotlib as mpl\n",
    "#import tifffile\n",
    "from matplotlib.font_manager import FontProperties\n",
    "from scipy import interpolate \n",
    "import pylab as pl  \n",
    "import seaborn as sns\n",
    "from pprint import pprint\n",
    "from numpy import cos, sin, tan, sqrt\n",
    "from matplotlib.colors import LogNorm\n",
    "#from tqdm import tqdm\n",
    "from scipy.optimize import fsolve\n",
    "from math import sin,cos,e, sqrt\n",
    "from scipy.optimize import least_squares\n",
    "#import tensor variables\n",
    "from pytensor import tensor as pt\n",
    "import pytest\n",
    "import pytensor\n",
    "#az plotting \n",
    "import arviz as az"
   ]
  },
  {
   "cell_type": "markdown",
   "metadata": {},
   "source": [
    "### Step 1: Defining the Hamiltonian Matrix\n",
    "\n",
    "In the following codeblock, we will define a 4 dimension coordinate system to account for the 4 points in k-space unit-cell centered at the $\\Gamma$ point: $(1,0,0,0), (0,1,0,0), (0,0,1,0)$ and $(0,0,0,1)$. The $\\Gamma$ point itself is $(0,0,0,0)$.\n",
    "\n",
    "Note: Because technically we didn't write the documentation file last week, this version already contains our updated generative model. The models that didn't work out are filed in the \"DEPRECATED\" folder. "
   ]
  },
  {
   "cell_type": "code",
   "execution_count": 3,
   "metadata": {
    "tags": []
   },
   "outputs": [],
   "source": [
    "# H functions\n",
    "#below is a simplified hamiltonian function that we will use for computing pytensor based pymc model \n",
    "def likelihood(theta, y, x, sigma_y):\n",
    "    \"\"\"\n",
    "    returns the loglike likelihood of our model\n",
    "        \n",
    "    Parameters:\n",
    "        theta: the parameters in Hamiltonian matrix (list)\n",
    "        y, x, sigma_y: our data (numpy arrays)\n",
    "        \n",
    "    Return:\n",
    "        the loglike likelihood (float)\n",
    "    \"\"\"\n",
    "    #for our four-basis Hamiltonian, the parameters include\n",
    "    #interaction-between-modes terms h11, u20;\n",
    "    #background A0 and heights of 4 peaks A1, A2, A3, A4\n",
    "    #peak width (assumed to be the same for all peaks) sigma_L\n",
    "    h11, u20, A0, A1, A2, A3, A4, sigma_L = theta\n",
    "\n",
    "    #energy of each mode is assumed to be fixed\n",
    "    e = 0.6346    # for k = (0.05,0) the eigen frequency of uncoupled slab mode 1 (*2 degeneracy)\n",
    "    e2 = 0.669    # for k = (0.05,0) the eigen frequency of uncoupled slab mode 2 (*2 degeneracy)\n",
    "\n",
    "    #Hamiltonian matrix\n",
    "    ham = pytensor.shared(np.array([[e2,h11,u20,h11],\n",
    "                                    [h11,e,h11,u20],\n",
    "                                    [u20,h11,e,h11],\n",
    "                                    [h11,u20,h11,e2]]))\n",
    "\n",
    "    #peak heights and peak positions\n",
    "    An = pytensor.shared(np.array([A1,A2,A3,A4]))\n",
    "    Cn = pt.real(pt.nlinalg.eigh(ham)[0])\n",
    "\n",
    "    #expectation value as sum of 4 gaussian peaks and background\n",
    "    #gaussian_list = [Ai * pt.exp(-pt.sqr(x - Ci) / (2 * pt.sqr(sigma_L))) for Ai, Ci in zip(An, Cn)]\n",
    "    #line = A0 + pt.sum(gaussian_list,axis=0)\n",
    "    line = A0 + An[0] * pt.exp(-pt.sqr(x - Cn[0]) / (2 * pt.sqr(sigma_L))) + An[1] * pt.exp(-pt.sqr(x - Cn[1]) / (2 * pt.sqr(sigma_L))) + An[2] * pt.exp(-pt.sqr(x - Cn[2]) / (2 * pt.sqr(sigma_L))) + An[3] * pt.exp(-pt.sqr(x - Cn[3]) / (2 * pt.sqr(sigma_L)))\n",
    "                \n",
    "    return pt.sum(-(0.5 / pt.sqr(sigma_y)) * pt.sqr(y - line))"
   ]
  },
  {
   "cell_type": "markdown",
   "metadata": {},
   "source": [
    "### Step 2: Generating a small test data set based on the generative model\n",
    "From the previous codeblock, we have a method of generating the eigenvalues of the Hamiltonian based on 5 parameters. These eigenvalues will be the peak position in our multiple Lorentzian Peak Model. For the following codeblock, we will generate a small test data set based on the model parameters. These include coupling parameters $h_{11}, u_{20}, v_{11}$ and atomic energy levels $C,C_2$ (pre-determined in the function, not as parameters, for this initial run) in the Hamiltonian that give us the eigenvalue. In addition, once we derive the eigenvalue (peak positions), we also set the peak height $A_0,A_1,A_2,A_3,A_4$, and the Lorentzian peak width $\\sigma_L$."
   ]
  },
  {
   "cell_type": "code",
   "execution_count": 4,
   "metadata": {
    "tags": []
   },
   "outputs": [
    {
     "data": {
      "image/png": "[encoded data removed]",
      "text/plain": [
       "<Figure size 640x480 with 1 Axes>"
      ]
     },
     "metadata": {},
     "output_type": "display_data"
    }
   ],
   "source": [
    "# H functions\n",
    "#below is a simplified hamiltonian function that we will use for computing pytensor based pymc model \n",
    "def ham2(theta, normf):\n",
    "    \"\"\"\n",
    "    simplify the ham2 function, no external function\n",
    "    ---\n",
    "    theta: parameters\n",
    "    normf: spectrum normalized frequency\n",
    "    ---\n",
    "    return: predicted spectrum intensity\n",
    "    \"\"\"\n",
    "    \n",
    "    h11,u20, A0, A1,A2,A3,A4, sigma_L = theta\n",
    "    C = 0.6346    # for k = (0.05,0) the eigen frequency of uncoupled slab mode 1 (*2 degeneracy)\n",
    "    C2 = 0.669    # for k = (0.05,0) the eigen frequency of uncoupled slab mode 2 (*2 degeneracy)\n",
    "\n",
    "    An = [A1,A2,A3,A4]\n",
    "    ham = [[C2,h11,u20,h11],\n",
    "          [h11,C,h11,u20],\n",
    "          [u20,h11,C,h11],\n",
    "          [h11,u20,h11,C2]]\n",
    "    Cn = np.real(np.linalg.eigvals(ham))  # peak position\n",
    "\n",
    "    line_each = [Ai * np.exp(-(normf - Ci)**2 / (2 * sigma_L**2)) for Ai, Ci in zip(An, Cn)]\n",
    "    line = np.sum(line_each,axis=0)+A0\n",
    "    return line   # line, theory\n",
    "\n",
    "# create simulated data\n",
    "normf = np.linspace(0.62,0.70,100)    # normalized frequency, \"x\" \n",
    "noisey = np.random.normal(0, 0.01, 100)\n",
    "#set all hamiltonian parameters as constant (u20 = v11 in C4 symmetry)\n",
    "h11 = 0.007\n",
    "u20 = 1e-5\n",
    "\n",
    "#set all peak parameters as constant\n",
    "A0 = 0.5\n",
    "A1 = 1\n",
    "A2 = 1.5\n",
    "A3 = 1\n",
    "A4 = 1.2\n",
    "sigma_L = 0.002\n",
    "\n",
    "theta = [h11,u20,A0,A1,A2,A3,A4,sigma_L] #\n",
    "y0  = ham2(theta,normf)\n",
    "y = y0+noisey\n",
    "plt.title(\"Small Test Data Set\")\n",
    "plt.xlabel(\"normalized frequency, 'x' \")\n",
    "plt.ylabel(\"amplitude\")\n",
    "plt.scatter(normf,y);\n",
    "# save "
   ]
  },
  {
   "cell_type": "markdown",
   "metadata": {},
   "source": [
    "### Step 3: Infering the parameters based on the simulated data\n",
    "\n",
    "Now we have acquireda small data set, we want to infer the parameters with PYMC. Because the diagonalization process must be done with actual constants, we must use py_tensor as a tool to diagonalize random variables."
   ]
  },
  {
   "cell_type": "code",
   "execution_count": 5,
   "metadata": {
    "tags": []
   },
   "outputs": [],
   "source": [
    "class LogLike(pt.Op):\n",
    "    \"\"\"\n",
    "    Passing the Op a vector of values (the parameters that define our model)\n",
    "    and returning a scalar value of loglike likelihood.\n",
    "    \"\"\"\n",
    "    itypes = [pt.dvector]  # expects a vector of parameter values when called\n",
    "    otypes = [pt.dscalar]  # outputs a vector of peak positions\n",
    "\n",
    "    def __init__(self, likelihood, y, x, sigma_y):\n",
    "        \"\"\"\n",
    "        Initialise the Op with things that our log-likelihood function\n",
    "        requires.\n",
    "\n",
    "        Parameters\n",
    "        ----------\n",
    "        likelihood:\n",
    "            The log-likelihood function we've defined\n",
    "        y, x, sigma_y:\n",
    "            Our data\n",
    "        \"\"\"\n",
    "\n",
    "        # add inputs as class attributes\n",
    "        self.likelihood = likelihood #your Hamiltonian function goes in here\n",
    "        self.x = x\n",
    "        self.y = y \n",
    "        self.sigma = sigma_y\n",
    "\n",
    "    def perform(self, node, inputs, outputs):\n",
    "        # the method that is used when calling the Op\n",
    "        (theta,) = inputs  # this will contain all variables\n",
    "\n",
    "        # call the loglike function\n",
    "        model = self.likelihood(theta, self.y, self.x, self.sigma)\n",
    "\n",
    "        outputs[0][0] = np.array(model)  # output the log-likelihood"
   ]
  },
  {
   "cell_type": "markdown",
   "metadata": {},
   "source": [
    "With custom functions ready, we can run the pymc inference."
   ]
  },
  {
   "cell_type": "code",
   "execution_count": 6,
   "metadata": {
    "tags": []
   },
   "outputs": [
    {
     "ename": "TypeError",
     "evalue": "loop of ufunc does not support argument 0 of type TensorVariable which has no callable rint method",
     "output_type": "error",
     "traceback": [
      "\u001b[1;31m---------------------------------------------------------------------------\u001b[0m",
      "\u001b[1;31mAttributeError\u001b[0m                            Traceback (most recent call last)",
      "\u001b[1;31mAttributeError\u001b[0m: 'TensorVariable' object has no attribute 'rint'",
      "\nThe above exception was the direct cause of the following exception:\n",
      "\u001b[1;31mTypeError\u001b[0m                                 Traceback (most recent call last)",
      "File \u001b[1;32m~\\anaconda\\envs\\phys201\\Lib\\site-packages\\numpy\\core\\fromnumeric.py:57\u001b[0m, in \u001b[0;36m_wrapfunc\u001b[1;34m(obj, method, *args, **kwds)\u001b[0m\n\u001b[0;32m     56\u001b[0m \u001b[38;5;28;01mtry\u001b[39;00m:\n\u001b[1;32m---> 57\u001b[0m     \u001b[38;5;28;01mreturn\u001b[39;00m \u001b[43mbound\u001b[49m\u001b[43m(\u001b[49m\u001b[38;5;241;43m*\u001b[39;49m\u001b[43margs\u001b[49m\u001b[43m,\u001b[49m\u001b[43m \u001b[49m\u001b[38;5;241;43m*\u001b[39;49m\u001b[38;5;241;43m*\u001b[39;49m\u001b[43mkwds\u001b[49m\u001b[43m)\u001b[49m\n\u001b[0;32m     58\u001b[0m \u001b[38;5;28;01mexcept\u001b[39;00m \u001b[38;5;167;01mTypeError\u001b[39;00m:\n\u001b[0;32m     59\u001b[0m     \u001b[38;5;66;03m# A TypeError occurs if the object does have such a method in its\u001b[39;00m\n\u001b[0;32m     60\u001b[0m     \u001b[38;5;66;03m# class, but its signature is not identical to that of NumPy's. This\u001b[39;00m\n\u001b[1;32m   (...)\u001b[0m\n\u001b[0;32m     64\u001b[0m     \u001b[38;5;66;03m# Call _wrapit from within the except clause to ensure a potential\u001b[39;00m\n\u001b[0;32m     65\u001b[0m     \u001b[38;5;66;03m# exception has a traceback chain.\u001b[39;00m\n",
      "\u001b[1;31mTypeError\u001b[0m: loop of ufunc does not support argument 0 of type TensorVariable which has no callable rint method",
      "\nDuring handling of the above exception, another exception occurred:\n",
      "\u001b[1;31mAttributeError\u001b[0m                            Traceback (most recent call last)",
      "\u001b[1;31mAttributeError\u001b[0m: 'TensorVariable' object has no attribute 'rint'",
      "\nThe above exception was the direct cause of the following exception:\n",
      "\u001b[1;31mTypeError\u001b[0m                                 Traceback (most recent call last)",
      "Cell \u001b[1;32mIn[6], line 22\u001b[0m\n\u001b[0;32m     20\u001b[0m \u001b[38;5;66;03m# Likelihood of observations\u001b[39;00m\n\u001b[0;32m     21\u001b[0m pm\u001b[38;5;241m.\u001b[39mPotential(\u001b[38;5;124m\"\u001b[39m\u001b[38;5;124mlikelihood\u001b[39m\u001b[38;5;124m\"\u001b[39m, logl(theta))\n\u001b[1;32m---> 22\u001b[0m idata_mh \u001b[38;5;241m=\u001b[39m \u001b[43mpm\u001b[49m\u001b[38;5;241;43m.\u001b[39;49m\u001b[43msample\u001b[49m\u001b[43m(\u001b[49m\u001b[38;5;241;43m500\u001b[39;49m\u001b[43m,\u001b[49m\u001b[43m \u001b[49m\u001b[43mtune\u001b[49m\u001b[38;5;241;43m=\u001b[39;49m\u001b[38;5;241;43m10\u001b[39;49m\u001b[43m)\u001b[49m\n",
      "File \u001b[1;32m~\\anaconda\\envs\\phys201\\Lib\\site-packages\\pymc\\sampling\\mcmc.py:481\u001b[0m, in \u001b[0;36msample\u001b[1;34m(draws, step, init, n_init, initvals, trace, chains, cores, tune, progressbar, model, random_seed, discard_tuned_samples, compute_convergence_checks, callback, jitter_max_retries, return_inferencedata, keep_warning_stat, idata_kwargs, mp_ctx, **kwargs)\u001b[0m\n\u001b[0;32m    479\u001b[0m \u001b[38;5;66;03m# One final check that shapes and logps at the starting points are okay.\u001b[39;00m\n\u001b[0;32m    480\u001b[0m \u001b[38;5;28;01mfor\u001b[39;00m ip \u001b[38;5;129;01min\u001b[39;00m initial_points:\n\u001b[1;32m--> 481\u001b[0m     \u001b[43mmodel\u001b[49m\u001b[38;5;241;43m.\u001b[39;49m\u001b[43mcheck_start_vals\u001b[49m\u001b[43m(\u001b[49m\u001b[43mip\u001b[49m\u001b[43m)\u001b[49m\n\u001b[0;32m    482\u001b[0m     _check_start_shape(model, ip)\n\u001b[0;32m    484\u001b[0m sample_args \u001b[38;5;241m=\u001b[39m {\n\u001b[0;32m    485\u001b[0m     \u001b[38;5;124m\"\u001b[39m\u001b[38;5;124mdraws\u001b[39m\u001b[38;5;124m\"\u001b[39m: draws,\n\u001b[0;32m    486\u001b[0m     \u001b[38;5;124m\"\u001b[39m\u001b[38;5;124mstep\u001b[39m\u001b[38;5;124m\"\u001b[39m: step,\n\u001b[1;32m   (...)\u001b[0m\n\u001b[0;32m    495\u001b[0m     \u001b[38;5;124m\"\u001b[39m\u001b[38;5;124mdiscard_tuned_samples\u001b[39m\u001b[38;5;124m\"\u001b[39m: discard_tuned_samples,\n\u001b[0;32m    496\u001b[0m }\n",
      "File \u001b[1;32m~\\anaconda\\envs\\phys201\\Lib\\site-packages\\pymc\\model.py:1765\u001b[0m, in \u001b[0;36mModel.check_start_vals\u001b[1;34m(self, start)\u001b[0m\n\u001b[0;32m   1759\u001b[0m     valid_keys \u001b[38;5;241m=\u001b[39m \u001b[38;5;124m\"\u001b[39m\u001b[38;5;124m, \u001b[39m\u001b[38;5;124m\"\u001b[39m\u001b[38;5;241m.\u001b[39mjoin(value_names_set)\n\u001b[0;32m   1760\u001b[0m     \u001b[38;5;28;01mraise\u001b[39;00m \u001b[38;5;167;01mKeyError\u001b[39;00m(\n\u001b[0;32m   1761\u001b[0m         \u001b[38;5;124m\"\u001b[39m\u001b[38;5;124mSome start parameters do not appear in the model!\u001b[39m\u001b[38;5;130;01m\\n\u001b[39;00m\u001b[38;5;124m\"\u001b[39m\n\u001b[0;32m   1762\u001b[0m         \u001b[38;5;124mf\u001b[39m\u001b[38;5;124m\"\u001b[39m\u001b[38;5;124mValid keys are: \u001b[39m\u001b[38;5;132;01m{\u001b[39;00mvalid_keys\u001b[38;5;132;01m}\u001b[39;00m\u001b[38;5;124m, but \u001b[39m\u001b[38;5;132;01m{\u001b[39;00mextra_keys\u001b[38;5;132;01m}\u001b[39;00m\u001b[38;5;124m was supplied\u001b[39m\u001b[38;5;124m\"\u001b[39m\n\u001b[0;32m   1763\u001b[0m     )\n\u001b[1;32m-> 1765\u001b[0m initial_eval \u001b[38;5;241m=\u001b[39m \u001b[38;5;28;43mself\u001b[39;49m\u001b[38;5;241;43m.\u001b[39;49m\u001b[43mpoint_logps\u001b[49m\u001b[43m(\u001b[49m\u001b[43mpoint\u001b[49m\u001b[38;5;241;43m=\u001b[39;49m\u001b[43melem\u001b[49m\u001b[43m)\u001b[49m\n\u001b[0;32m   1767\u001b[0m \u001b[38;5;28;01mif\u001b[39;00m \u001b[38;5;129;01mnot\u001b[39;00m \u001b[38;5;28mall\u001b[39m(np\u001b[38;5;241m.\u001b[39misfinite(v) \u001b[38;5;28;01mfor\u001b[39;00m v \u001b[38;5;129;01min\u001b[39;00m initial_eval\u001b[38;5;241m.\u001b[39mvalues()):\n\u001b[0;32m   1768\u001b[0m     \u001b[38;5;28;01mraise\u001b[39;00m SamplingError(\n\u001b[0;32m   1769\u001b[0m         \u001b[38;5;124m\"\u001b[39m\u001b[38;5;124mInitial evaluation of model at starting point failed!\u001b[39m\u001b[38;5;130;01m\\n\u001b[39;00m\u001b[38;5;124m\"\u001b[39m\n\u001b[0;32m   1770\u001b[0m         \u001b[38;5;124mf\u001b[39m\u001b[38;5;124m\"\u001b[39m\u001b[38;5;124mStarting values:\u001b[39m\u001b[38;5;130;01m\\n\u001b[39;00m\u001b[38;5;132;01m{\u001b[39;00melem\u001b[38;5;132;01m}\u001b[39;00m\u001b[38;5;130;01m\\n\u001b[39;00m\u001b[38;5;130;01m\\n\u001b[39;00m\u001b[38;5;124m\"\u001b[39m\n\u001b[0;32m   1771\u001b[0m         \u001b[38;5;124mf\u001b[39m\u001b[38;5;124m\"\u001b[39m\u001b[38;5;124mInitial evaluation results:\u001b[39m\u001b[38;5;130;01m\\n\u001b[39;00m\u001b[38;5;132;01m{\u001b[39;00minitial_eval\u001b[38;5;132;01m}\u001b[39;00m\u001b[38;5;124m\"\u001b[39m\n\u001b[0;32m   1772\u001b[0m     )\n",
      "File \u001b[1;32m~\\anaconda\\envs\\phys201\\Lib\\site-packages\\pymc\\model.py:1795\u001b[0m, in \u001b[0;36mModel.point_logps\u001b[1;34m(self, point, round_vals)\u001b[0m\n\u001b[0;32m   1793\u001b[0m factors \u001b[38;5;241m=\u001b[39m \u001b[38;5;28mself\u001b[39m\u001b[38;5;241m.\u001b[39mbasic_RVs \u001b[38;5;241m+\u001b[39m \u001b[38;5;28mself\u001b[39m\u001b[38;5;241m.\u001b[39mpotentials\n\u001b[0;32m   1794\u001b[0m factor_logps_fn \u001b[38;5;241m=\u001b[39m [at\u001b[38;5;241m.\u001b[39msum(factor) \u001b[38;5;28;01mfor\u001b[39;00m factor \u001b[38;5;129;01min\u001b[39;00m \u001b[38;5;28mself\u001b[39m\u001b[38;5;241m.\u001b[39mlogp(factors, \u001b[38;5;28msum\u001b[39m\u001b[38;5;241m=\u001b[39m\u001b[38;5;28;01mFalse\u001b[39;00m)]\n\u001b[1;32m-> 1795\u001b[0m \u001b[38;5;28;01mreturn\u001b[39;00m \u001b[43m{\u001b[49m\n\u001b[0;32m   1796\u001b[0m \u001b[43m    \u001b[49m\u001b[43mfactor\u001b[49m\u001b[38;5;241;43m.\u001b[39;49m\u001b[43mname\u001b[49m\u001b[43m:\u001b[49m\u001b[43m \u001b[49m\u001b[43mnp\u001b[49m\u001b[38;5;241;43m.\u001b[39;49m\u001b[43mround\u001b[49m\u001b[43m(\u001b[49m\u001b[43mnp\u001b[49m\u001b[38;5;241;43m.\u001b[39;49m\u001b[43masarray\u001b[49m\u001b[43m(\u001b[49m\u001b[43mfactor_logp\u001b[49m\u001b[43m)\u001b[49m\u001b[43m,\u001b[49m\u001b[43m \u001b[49m\u001b[43mround_vals\u001b[49m\u001b[43m)\u001b[49m\n\u001b[0;32m   1797\u001b[0m \u001b[43m    \u001b[49m\u001b[38;5;28;43;01mfor\u001b[39;49;00m\u001b[43m \u001b[49m\u001b[43mfactor\u001b[49m\u001b[43m,\u001b[49m\u001b[43m \u001b[49m\u001b[43mfactor_logp\u001b[49m\u001b[43m \u001b[49m\u001b[38;5;129;43;01min\u001b[39;49;00m\u001b[43m \u001b[49m\u001b[38;5;28;43mzip\u001b[39;49m\u001b[43m(\u001b[49m\n\u001b[0;32m   1798\u001b[0m \u001b[43m        \u001b[49m\u001b[43mfactors\u001b[49m\u001b[43m,\u001b[49m\n\u001b[0;32m   1799\u001b[0m \u001b[43m        \u001b[49m\u001b[38;5;28;43mself\u001b[39;49m\u001b[38;5;241;43m.\u001b[39;49m\u001b[43mcompile_fn\u001b[49m\u001b[43m(\u001b[49m\u001b[43mfactor_logps_fn\u001b[49m\u001b[43m)\u001b[49m\u001b[43m(\u001b[49m\u001b[43mpoint\u001b[49m\u001b[43m)\u001b[49m\u001b[43m,\u001b[49m\n\u001b[0;32m   1800\u001b[0m \u001b[43m    \u001b[49m\u001b[43m)\u001b[49m\n\u001b[0;32m   1801\u001b[0m \u001b[43m\u001b[49m\u001b[43m}\u001b[49m\n",
      "File \u001b[1;32m~\\anaconda\\envs\\phys201\\Lib\\site-packages\\pymc\\model.py:1796\u001b[0m, in \u001b[0;36m<dictcomp>\u001b[1;34m(.0)\u001b[0m\n\u001b[0;32m   1793\u001b[0m factors \u001b[38;5;241m=\u001b[39m \u001b[38;5;28mself\u001b[39m\u001b[38;5;241m.\u001b[39mbasic_RVs \u001b[38;5;241m+\u001b[39m \u001b[38;5;28mself\u001b[39m\u001b[38;5;241m.\u001b[39mpotentials\n\u001b[0;32m   1794\u001b[0m factor_logps_fn \u001b[38;5;241m=\u001b[39m [at\u001b[38;5;241m.\u001b[39msum(factor) \u001b[38;5;28;01mfor\u001b[39;00m factor \u001b[38;5;129;01min\u001b[39;00m \u001b[38;5;28mself\u001b[39m\u001b[38;5;241m.\u001b[39mlogp(factors, \u001b[38;5;28msum\u001b[39m\u001b[38;5;241m=\u001b[39m\u001b[38;5;28;01mFalse\u001b[39;00m)]\n\u001b[0;32m   1795\u001b[0m \u001b[38;5;28;01mreturn\u001b[39;00m {\n\u001b[1;32m-> 1796\u001b[0m     factor\u001b[38;5;241m.\u001b[39mname: \u001b[43mnp\u001b[49m\u001b[38;5;241;43m.\u001b[39;49m\u001b[43mround\u001b[49m\u001b[43m(\u001b[49m\u001b[43mnp\u001b[49m\u001b[38;5;241;43m.\u001b[39;49m\u001b[43masarray\u001b[49m\u001b[43m(\u001b[49m\u001b[43mfactor_logp\u001b[49m\u001b[43m)\u001b[49m\u001b[43m,\u001b[49m\u001b[43m \u001b[49m\u001b[43mround_vals\u001b[49m\u001b[43m)\u001b[49m\n\u001b[0;32m   1797\u001b[0m     \u001b[38;5;28;01mfor\u001b[39;00m factor, factor_logp \u001b[38;5;129;01min\u001b[39;00m \u001b[38;5;28mzip\u001b[39m(\n\u001b[0;32m   1798\u001b[0m         factors,\n\u001b[0;32m   1799\u001b[0m         \u001b[38;5;28mself\u001b[39m\u001b[38;5;241m.\u001b[39mcompile_fn(factor_logps_fn)(point),\n\u001b[0;32m   1800\u001b[0m     )\n\u001b[0;32m   1801\u001b[0m }\n",
      "File \u001b[1;32m<__array_function__ internals>:200\u001b[0m, in \u001b[0;36mround_\u001b[1;34m(*args, **kwargs)\u001b[0m\n",
      "File \u001b[1;32m~\\anaconda\\envs\\phys201\\Lib\\site-packages\\numpy\\core\\fromnumeric.py:3763\u001b[0m, in \u001b[0;36mround_\u001b[1;34m(a, decimals, out)\u001b[0m\n\u001b[0;32m   3754\u001b[0m \u001b[38;5;129m@array_function_dispatch\u001b[39m(_around_dispatcher)\n\u001b[0;32m   3755\u001b[0m \u001b[38;5;28;01mdef\u001b[39;00m \u001b[38;5;21mround_\u001b[39m(a, decimals\u001b[38;5;241m=\u001b[39m\u001b[38;5;241m0\u001b[39m, out\u001b[38;5;241m=\u001b[39m\u001b[38;5;28;01mNone\u001b[39;00m):\n\u001b[0;32m   3756\u001b[0m \u001b[38;5;250m    \u001b[39m\u001b[38;5;124;03m\"\"\"\u001b[39;00m\n\u001b[0;32m   3757\u001b[0m \u001b[38;5;124;03m    Round an array to the given number of decimals.\u001b[39;00m\n\u001b[0;32m   3758\u001b[0m \n\u001b[1;32m   (...)\u001b[0m\n\u001b[0;32m   3761\u001b[0m \u001b[38;5;124;03m    around : equivalent function; see for details.\u001b[39;00m\n\u001b[0;32m   3762\u001b[0m \u001b[38;5;124;03m    \"\"\"\u001b[39;00m\n\u001b[1;32m-> 3763\u001b[0m     \u001b[38;5;28;01mreturn\u001b[39;00m \u001b[43maround\u001b[49m\u001b[43m(\u001b[49m\u001b[43ma\u001b[49m\u001b[43m,\u001b[49m\u001b[43m \u001b[49m\u001b[43mdecimals\u001b[49m\u001b[38;5;241;43m=\u001b[39;49m\u001b[43mdecimals\u001b[49m\u001b[43m,\u001b[49m\u001b[43m \u001b[49m\u001b[43mout\u001b[49m\u001b[38;5;241;43m=\u001b[39;49m\u001b[43mout\u001b[49m\u001b[43m)\u001b[49m\n",
      "File \u001b[1;32m<__array_function__ internals>:200\u001b[0m, in \u001b[0;36maround\u001b[1;34m(*args, **kwargs)\u001b[0m\n",
      "File \u001b[1;32m~\\anaconda\\envs\\phys201\\Lib\\site-packages\\numpy\\core\\fromnumeric.py:3337\u001b[0m, in \u001b[0;36maround\u001b[1;34m(a, decimals, out)\u001b[0m\n\u001b[0;32m   3245\u001b[0m \u001b[38;5;129m@array_function_dispatch\u001b[39m(_around_dispatcher)\n\u001b[0;32m   3246\u001b[0m \u001b[38;5;28;01mdef\u001b[39;00m \u001b[38;5;21maround\u001b[39m(a, decimals\u001b[38;5;241m=\u001b[39m\u001b[38;5;241m0\u001b[39m, out\u001b[38;5;241m=\u001b[39m\u001b[38;5;28;01mNone\u001b[39;00m):\n\u001b[0;32m   3247\u001b[0m \u001b[38;5;250m    \u001b[39m\u001b[38;5;124;03m\"\"\"\u001b[39;00m\n\u001b[0;32m   3248\u001b[0m \u001b[38;5;124;03m    Evenly round to the given number of decimals.\u001b[39;00m\n\u001b[0;32m   3249\u001b[0m \n\u001b[1;32m   (...)\u001b[0m\n\u001b[0;32m   3335\u001b[0m \n\u001b[0;32m   3336\u001b[0m \u001b[38;5;124;03m    \"\"\"\u001b[39;00m\n\u001b[1;32m-> 3337\u001b[0m     \u001b[38;5;28;01mreturn\u001b[39;00m \u001b[43m_wrapfunc\u001b[49m\u001b[43m(\u001b[49m\u001b[43ma\u001b[49m\u001b[43m,\u001b[49m\u001b[43m \u001b[49m\u001b[38;5;124;43m'\u001b[39;49m\u001b[38;5;124;43mround\u001b[39;49m\u001b[38;5;124;43m'\u001b[39;49m\u001b[43m,\u001b[49m\u001b[43m \u001b[49m\u001b[43mdecimals\u001b[49m\u001b[38;5;241;43m=\u001b[39;49m\u001b[43mdecimals\u001b[49m\u001b[43m,\u001b[49m\u001b[43m \u001b[49m\u001b[43mout\u001b[49m\u001b[38;5;241;43m=\u001b[39;49m\u001b[43mout\u001b[49m\u001b[43m)\u001b[49m\n",
      "File \u001b[1;32m~\\anaconda\\envs\\phys201\\Lib\\site-packages\\numpy\\core\\fromnumeric.py:66\u001b[0m, in \u001b[0;36m_wrapfunc\u001b[1;34m(obj, method, *args, **kwds)\u001b[0m\n\u001b[0;32m     57\u001b[0m     \u001b[38;5;28;01mreturn\u001b[39;00m bound(\u001b[38;5;241m*\u001b[39margs, \u001b[38;5;241m*\u001b[39m\u001b[38;5;241m*\u001b[39mkwds)\n\u001b[0;32m     58\u001b[0m \u001b[38;5;28;01mexcept\u001b[39;00m \u001b[38;5;167;01mTypeError\u001b[39;00m:\n\u001b[0;32m     59\u001b[0m     \u001b[38;5;66;03m# A TypeError occurs if the object does have such a method in its\u001b[39;00m\n\u001b[0;32m     60\u001b[0m     \u001b[38;5;66;03m# class, but its signature is not identical to that of NumPy's. This\u001b[39;00m\n\u001b[1;32m   (...)\u001b[0m\n\u001b[0;32m     64\u001b[0m     \u001b[38;5;66;03m# Call _wrapit from within the except clause to ensure a potential\u001b[39;00m\n\u001b[0;32m     65\u001b[0m     \u001b[38;5;66;03m# exception has a traceback chain.\u001b[39;00m\n\u001b[1;32m---> 66\u001b[0m     \u001b[38;5;28;01mreturn\u001b[39;00m \u001b[43m_wrapit\u001b[49m\u001b[43m(\u001b[49m\u001b[43mobj\u001b[49m\u001b[43m,\u001b[49m\u001b[43m \u001b[49m\u001b[43mmethod\u001b[49m\u001b[43m,\u001b[49m\u001b[43m \u001b[49m\u001b[38;5;241;43m*\u001b[39;49m\u001b[43margs\u001b[49m\u001b[43m,\u001b[49m\u001b[43m \u001b[49m\u001b[38;5;241;43m*\u001b[39;49m\u001b[38;5;241;43m*\u001b[39;49m\u001b[43mkwds\u001b[49m\u001b[43m)\u001b[49m\n",
      "File \u001b[1;32m~\\anaconda\\envs\\phys201\\Lib\\site-packages\\numpy\\core\\fromnumeric.py:43\u001b[0m, in \u001b[0;36m_wrapit\u001b[1;34m(obj, method, *args, **kwds)\u001b[0m\n\u001b[0;32m     41\u001b[0m \u001b[38;5;28;01mexcept\u001b[39;00m \u001b[38;5;167;01mAttributeError\u001b[39;00m:\n\u001b[0;32m     42\u001b[0m     wrap \u001b[38;5;241m=\u001b[39m \u001b[38;5;28;01mNone\u001b[39;00m\n\u001b[1;32m---> 43\u001b[0m result \u001b[38;5;241m=\u001b[39m \u001b[38;5;28;43mgetattr\u001b[39;49m\u001b[43m(\u001b[49m\u001b[43masarray\u001b[49m\u001b[43m(\u001b[49m\u001b[43mobj\u001b[49m\u001b[43m)\u001b[49m\u001b[43m,\u001b[49m\u001b[43m \u001b[49m\u001b[43mmethod\u001b[49m\u001b[43m)\u001b[49m\u001b[43m(\u001b[49m\u001b[38;5;241;43m*\u001b[39;49m\u001b[43margs\u001b[49m\u001b[43m,\u001b[49m\u001b[43m \u001b[49m\u001b[38;5;241;43m*\u001b[39;49m\u001b[38;5;241;43m*\u001b[39;49m\u001b[43mkwds\u001b[49m\u001b[43m)\u001b[49m\n\u001b[0;32m     44\u001b[0m \u001b[38;5;28;01mif\u001b[39;00m wrap:\n\u001b[0;32m     45\u001b[0m     \u001b[38;5;28;01mif\u001b[39;00m \u001b[38;5;129;01mnot\u001b[39;00m \u001b[38;5;28misinstance\u001b[39m(result, mu\u001b[38;5;241m.\u001b[39mndarray):\n",
      "\u001b[1;31mTypeError\u001b[0m: loop of ufunc does not support argument 0 of type TensorVariable which has no callable rint method"
     ]
    }
   ],
   "source": [
    "\n",
    "### model =========================\n",
    "ham_model = pm.Model()\n",
    "logl = LogLike(likelihood, y, normf, noisey)\n",
    "with ham_model:\n",
    "    # Priors for unknown model parameters    , transform = None  h11, A0, A1, sigma_L = theta\n",
    "    A0 = pm.Uniform('background',lower=0,upper=1.2)\n",
    "    A1 = pm.Uniform(\"A1\", lower=0.5, upper=2.5)\n",
    "    A2 = pm.Uniform(\"A2\", lower=0.5, upper=2.5)\n",
    "    A3 = pm.Uniform(\"A3\", lower=0.5, upper=2.5)\n",
    "    A4 = pm.Uniform(\"A4\", lower=0.5, upper=2.5)\n",
    "    h11 = pm.Uniform('h11',lower=0.003,upper=0.01)\n",
    "    u20 = pm.Uniform('u20',lower=-1e-3,upper=1e-3)\n",
    "    # neff = pm.Uniform('neff',2,2.2)         # ignore this for now\n",
    "    # ratio = pm.Uniform('ratio',0.2,0.4)     # ignore this for now\n",
    "    sigma_L = pm.Uniform('peak_width',lower=0.0005,upper=0.01)\n",
    "    \n",
    "    # likelihood\n",
    "    theta = pt.as_tensor_variable([h11,u20, A0, A1,A2,A3,A4, sigma_L])\n",
    "    \n",
    "    # Likelihood of observations\n",
    "    pm.Potential(\"likelihood\", logl(theta))\n",
    "    idata_mh = pm.sample(500, tune=10)"
   ]
  },
  {
   "cell_type": "code",
   "execution_count": null,
   "metadata": {},
   "outputs": [],
   "source": [
    "az.plot_trace(idata_mh,figsize =(12,40));"
   ]
  }
 ],
 "metadata": {
  "interpreter": {
   "hash": "7111489581311efbbab4af175e87cd02a03f82e408bfbd7f40da89198af4ed6d"
  },
  "kernelspec": {
   "display_name": "Python 3 (ipykernel)",
   "language": "python",
   "name": "python3"
  },
  "language_info": {
   "codemirror_mode": {
    "name": "ipython",
    "version": 3
   },
   "file_extension": ".py",
   "mimetype": "text/x-python",
   "name": "python",
   "nbconvert_exporter": "python",
   "pygments_lexer": "ipython3",
   "version": "3.11.0"
  }
 },
 "nbformat": 4,
 "nbformat_minor": 4
}
